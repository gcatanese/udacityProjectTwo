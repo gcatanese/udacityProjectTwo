{
 "cells": [
  {
   "cell_type": "markdown",
   "metadata": {},
   "source": [
    "# Part I. ETL Pipeline for Pre-Processing the Files"
   ]
  },
  {
   "cell_type": "markdown",
   "metadata": {},
   "source": [
    "## PLEASE RUN THE FOLLOWING CODE FOR PRE-PROCESSING THE FILES"
   ]
  },
  {
   "cell_type": "markdown",
   "metadata": {},
   "source": [
    "#### Import Python packages "
   ]
  },
  {
   "cell_type": "code",
   "execution_count": 1,
   "metadata": {},
   "outputs": [],
   "source": [
    "# Import Python packages \n",
    "import pandas as pd\n",
    "import cassandra\n",
    "import re\n",
    "import os\n",
    "import glob\n",
    "import numpy as np\n",
    "import json\n",
    "import csv"
   ]
  },
  {
   "cell_type": "markdown",
   "metadata": {},
   "source": [
    "#### Creating list of filepaths to process original event csv data files"
   ]
  },
  {
   "cell_type": "code",
   "execution_count": 2,
   "metadata": {},
   "outputs": [
    {
     "name": "stdout",
     "output_type": "stream",
     "text": [
      "/home/workspace\n"
     ]
    }
   ],
   "source": [
    "## Creating list of filepaths to process original event csv data files                                                \n",
    "                                                                                                                      \n",
    "# check and print your current working directory                                                                      \n",
    "print(os.getcwd())                                                                                                    \n",
    "                                                                                                                      \n",
    "# Get your current folder and subfolder event data                                                                    \n",
    "filepath = os.getcwd() + '/event_data'                                                                                \n",
    "                                                                                                                      \n",
    "# Create a for loop to create a list of files and collect each filepath                                               \n",
    "for root, dirs, files in os.walk(filepath):                                                                           \n",
    "                                                                                                                      \n",
    "    # join the file path and roots with the subdirectories using glob                                                 \n",
    "    file_path_list = glob.glob(os.path.join(root,'*'))                                                                \n",
    "    #print(file_path_list)                                                                                            "
   ]
  },
  {
   "cell_type": "markdown",
   "metadata": {},
   "source": [
    "#### Processing the files to create the data file csv that will be used for Apache Casssandra tables"
   ]
  },
  {
   "cell_type": "code",
   "execution_count": 3,
   "metadata": {},
   "outputs": [],
   "source": [
    "## Process CSV files to create the final data file                                                                     \n",
    "                                                                                                                       \n",
    "# initiating an empty list of rows that will be generated from each file                                               \n",
    "full_data_rows_list = []                                                                                               \n",
    "                                                                                                                       \n",
    "# for every filepath in the file path list                                                                             \n",
    "for f in file_path_list:                                                                                               \n",
    "                                                                                                                       \n",
    "    # reading csv file                                                                                                 \n",
    "    with open(f, 'r', encoding = 'utf8', newline='') as csvfile:                                                       \n",
    "        # creating a csv reader object                                                                                 \n",
    "        csvreader = csv.reader(csvfile)                                                                                \n",
    "        next(csvreader)                                                                                                \n",
    "                                                                                                                       \n",
    "        # extracting each data row one by one and append it                                                            \n",
    "        for line in csvreader:                                                                                         \n",
    "            #print(line)                                                                                               \n",
    "            full_data_rows_list.append(line)                                                                           \n",
    "            \n",
    "# Generate final CSV data file                                                                                          \n",
    "csv.register_dialect('myDialect', quoting=csv.QUOTE_ALL, skipinitialspace=True)                                         \n",
    "                                                                                                                        \n",
    "with open('event_datafile_new.csv', 'w', encoding = 'utf8', newline='') as f:                                           \n",
    "    writer = csv.writer(f, dialect='myDialect')                                                                         \n",
    "    writer.writerow(['artist','firstName','gender','itemInSession','lastName','length',                                \n",
    "                     'level','location','sessionId','song','userId'])                                                   \n",
    "    for row in full_data_rows_list:                                                                                     \n",
    "        if (row[0] == ''):                                                                                              \n",
    "            continue                                                                                                    \n",
    "        writer.writerow((row[0], row[2], row[3], row[4], row[5], row[6], row[7], row[8], row[12], row[13], row[16]))    \n"
   ]
  },
  {
   "cell_type": "code",
   "execution_count": 4,
   "metadata": {},
   "outputs": [
    {
     "name": "stdout",
     "output_type": "stream",
     "text": [
      "6821\n"
     ]
    }
   ],
   "source": [
    "# check the number of rows in your csv file                                                                             \n",
    "with open('event_datafile_new.csv', 'r', encoding = 'utf8') as f:                                                       \n",
    "    print(sum(1 for line in f))                                                                                         "
   ]
  },
  {
   "cell_type": "markdown",
   "metadata": {},
   "source": [
    "# Part II. Complete the Apache Cassandra coding portion of your project. \n",
    "\n",
    "## Now you are ready to work with the CSV file titled <font color=red>event_datafile_new.csv</font>, located within the Workspace directory.  The event_datafile_new.csv contains the following columns: \n",
    "- artist \n",
    "- firstName of user\n",
    "- gender of user\n",
    "- item number in session\n",
    "- last name of user\n",
    "- length of the song\n",
    "- level (paid or free song)\n",
    "- location of the user\n",
    "- sessionId\n",
    "- song title\n",
    "- userId\n",
    "\n",
    "The image below is a screenshot of what the denormalized data should appear like in the <font color=red>**event_datafile_new.csv**</font> after the code above is run:<br>\n",
    "\n",
    "<img src=\"images/image_event_datafile_new.jpg\">"
   ]
  },
  {
   "cell_type": "markdown",
   "metadata": {},
   "source": [
    "## Begin writing your Apache Cassandra code in the cells below"
   ]
  },
  {
   "cell_type": "markdown",
   "metadata": {},
   "source": [
    "#### Creating a Cluster"
   ]
  },
  {
   "cell_type": "code",
   "execution_count": 5,
   "metadata": {},
   "outputs": [],
   "source": [
    "# connect to Cassandra and create Keyspace                       \n",
    "from cassandra.cluster import Cluster                            \n",
    "\n",
    "cluster = Cluster()\n",
    "\n",
    "# obtain session  \n",
    "session = cluster.connect()"
   ]
  },
  {
   "cell_type": "markdown",
   "metadata": {},
   "source": [
    "#### Create Keyspace"
   ]
  },
  {
   "cell_type": "code",
   "execution_count": 6,
   "metadata": {},
   "outputs": [
    {
     "data": {
      "text/plain": [
       "<cassandra.cluster.ResultSet at 0x7f9a7e93ab70>"
      ]
     },
     "execution_count": 6,
     "metadata": {},
     "output_type": "execute_result"
    }
   ],
   "source": [
    "# Create the Keyspace \n",
    "session.execute(\"\"\"\n",
    "    CREATE KEYSPACE IF NOT EXISTS udacity \n",
    "    WITH REPLICATION = \n",
    "    { 'class' : 'SimpleStrategy', 'replication_factor' : 1 }\n",
    "    \"\"\")"
   ]
  },
  {
   "cell_type": "markdown",
   "metadata": {},
   "source": [
    "#### Set Keyspace"
   ]
  },
  {
   "cell_type": "code",
   "execution_count": 7,
   "metadata": {},
   "outputs": [],
   "source": [
    "# Set the KEYSPACE \n",
    "session.set_keyspace('udacity')"
   ]
  },
  {
   "cell_type": "markdown",
   "metadata": {},
   "source": [
    "### Now we need to create tables to run the following queries. Remember, with Apache Cassandra you model the database tables on the queries you want to run."
   ]
  },
  {
   "cell_type": "markdown",
   "metadata": {},
   "source": [
    "## Create queries to ask the following three questions of the data\n",
    "\n",
    "### 1. Give me the artist, song title and song's length in the music app history that was heard during  sessionId = 338, and itemInSession  = 4\n",
    "\n",
    "\n",
    "### 2. Give me only the following: name of artist, song (sorted by itemInSession) and user (first and last name) for userid = 10, sessionid = 182\n",
    "    \n",
    "\n",
    "### 3. Give me every user name (first and last) in my music app history who listened to the song 'All Hands Against His Own'\n",
    "\n",
    "\n"
   ]
  },
  {
   "cell_type": "code",
   "execution_count": 8,
   "metadata": {},
   "outputs": [
    {
     "data": {
      "text/plain": [
       "<cassandra.cluster.ResultSet at 0x7f9a7e938da0>"
      ]
     },
     "execution_count": 8,
     "metadata": {},
     "output_type": "execute_result"
    }
   ],
   "source": [
    "# Task 1: Getting the artist, song's title and song's length for a given session_id and item_in_session\n",
    "\n",
    "query = \"CREATE TABLE IF NOT EXISTS song_library \"\n",
    "query = query + \"(session_id int, item_in_session int, artist_name text, song_title text, song_length double, \" \\\n",
    "                \"PRIMARY KEY (session_id, item_in_session))\"\n",
    "\n",
    "session.execute(query)"
   ]
  },
  {
   "cell_type": "code",
   "execution_count": 9,
   "metadata": {},
   "outputs": [],
   "source": [
    "## Process new data file                                                                                                \n",
    "file = 'event_datafile_new.csv'                                                                                         \n",
    "                                                                                                                        \n",
    "with open(file, encoding='utf8') as f:                                                                                  \n",
    "    csvreader = csv.reader(f)                                                                                           \n",
    "    next(csvreader)  # skip header                                                                                      \n",
    "    for line in csvreader:                                                                                              \n",
    "        ## Define INSERT statement                                                                                      \n",
    "        query = \"INSERT INTO song_library (session_id, item_in_session, artist_name, song_title, song_length)\"          \n",
    "        query = query + \"VALUES (%s, %s, %s, %s, %s)\"                                                                   \n",
    "        ## Run INSERT statement                                                                                         \n",
    "        session.execute(query, (int(line[8]), int(line[3]), line[0], line[9], float(line[5])))                          \n",
    "                                                                                                                        \n",
    "## Execute SELECT to validate the output                                                                                \n",
    "query = \"SELECT artist_name, song_title, song_length FROM song_library WHERE session_id=411 AND item_in_session = 4\""
   ]
  },
  {
   "cell_type": "markdown",
   "metadata": {},
   "source": [
    "#### Do a SELECT to verify that the data have been inserted into each table"
   ]
  },
  {
   "cell_type": "code",
   "execution_count": 10,
   "metadata": {
    "scrolled": true
   },
   "outputs": [
    {
     "name": "stdout",
     "output_type": "stream",
     "text": [
      "Row(artist_name='OneRepublic', song_title='Secrets', song_length=224.67873)\n"
     ]
    }
   ],
   "source": [
    "## Execute SELECT to validate the output                                                                                \n",
    "query = \"SELECT artist_name, song_title, song_length FROM song_library WHERE session_id=411 AND item_in_session = 4\"   \n",
    "rows = session.execute(query)                                                                                           \n",
    "                                                                                                                        \n",
    "for row in rows:                                                                                                        \n",
    "    print (row)                                                                                                         "
   ]
  },
  {
   "cell_type": "markdown",
   "metadata": {},
   "source": [
    "### COPY AND REPEAT THE ABOVE THREE CELLS FOR EACH OF THE THREE QUESTIONS"
   ]
  },
  {
   "cell_type": "code",
   "execution_count": 11,
   "metadata": {},
   "outputs": [
    {
     "name": "stdout",
     "output_type": "stream",
     "text": [
      "Row(artist_name='Down To The Bone', song_title=\"Keep On Keepin' On\", first_name='Sylvie', last_name='Cruz')\n",
      "Row(artist_name='Three Drives', song_title='Greece 2000', first_name='Sylvie', last_name='Cruz')\n",
      "Row(artist_name='Sebastien Tellier', song_title='Kilometer', first_name='Sylvie', last_name='Cruz')\n",
      "Row(artist_name='Lonnie Gordon', song_title='Catch You Baby (Steve Pitron & Max Sanna Radio Edit)', first_name='Sylvie', last_name='Cruz')\n"
     ]
    }
   ],
   "source": [
    "## Task 2: Getting the artist, song's title and user for a given user_id and session_id, sorting by item_in_session     \n",
    "query = \"CREATE TABLE IF NOT EXISTS user_play \"                                                                         \n",
    "query = query + \"(user_id int, session_id int, item_in_session int, artist_name text, song_title text, \" \\\n",
    "                \"first_name text, last_name text, PRIMARY KEY ((user_id, session_id), item_in_session))\"              \n",
    "session.execute(query)                                                                                                  \n",
    "                                                                                                                        \n",
    "file = 'event_datafile_new.csv'                                                                                         \n",
    "                                                                                                                        \n",
    "with open(file, encoding = 'utf8') as f:                                                                                \n",
    "    csvreader = csv.reader(f)                                                                                           \n",
    "    next(csvreader) # skip header                                                                                       \n",
    "    for line in csvreader:                                                                                              \n",
    "        ## Define INSERT statement                                                                                      \n",
    "        query = \"INSERT INTO user_play (user_id, session_id, item_in_session, artist_name, song_title, \";               \n",
    "        query = query + \"first_name, last_name)\";                                                                       \n",
    "        query = query + \"VALUES (%s, %s, %s, %s, %s, %s, %s)\"                                                              \n",
    "        ## Run INSERT statement                                                                                         \n",
    "        session.execute(query, (int(line[10]), int(line[8]), int(line[3]), line[0], line[9], line[1], line[4]))         \n",
    "                                                                                                                        \n",
    "## Execute SELECT to validate the output                                                                                \n",
    "query = \"SELECT artist_name, song_title, first_name, last_name FROM user_play WHERE user_id=10 AND session_id=182\"      \n",
    "rows = session.execute(query)                                                                                           \n",
    "                                                                                                                        \n",
    "for row in rows:                                                                                                        \n",
    "    print (row)                                                                                                         "
   ]
  },
  {
   "cell_type": "code",
   "execution_count": 12,
   "metadata": {},
   "outputs": [
    {
     "ename": "SyntaxError",
     "evalue": "unexpected character after line continuation character (<ipython-input-12-b5c68dec50b8>, line 3)",
     "output_type": "error",
     "traceback": [
      "\u001b[0;36m  File \u001b[0;32m\"<ipython-input-12-b5c68dec50b8>\"\u001b[0;36m, line \u001b[0;32m3\u001b[0m\n\u001b[0;31m    query = query + \"(song_title text, first_name text, last_name text, user_id int, \" \\\u001b[0m\n\u001b[0m                                                                                                                            ^\u001b[0m\n\u001b[0;31mSyntaxError\u001b[0m\u001b[0;31m:\u001b[0m unexpected character after line continuation character\n"
     ]
    }
   ],
   "source": [
    "## Task 3: Getting the users who listened to a given song                                                               \n",
    "query = \"CREATE TABLE IF NOT EXISTS song_history \"                                                                      \n",
    "query = query + \"(song_title text, first_name text, last_name text, user_id int, \" \\\n",
    "            \"PRIMARY KEY (song_title, first_name, last_name, user_id))\"                                             \n",
    "session.execute(query)                                                                                                  \n",
    "                                                                                                                        \n",
    "file = 'event_datafile_new.csv'                                                                                         \n",
    "                                                                                                                        \n",
    "with open(file, encoding = 'utf8') as f:                                                                                \n",
    "    csvreader = csv.reader(f)                                                                                           \n",
    "    next(csvreader) # skip header                                                                                       \n",
    "    for line in csvreader:                                                                                              \n",
    "        ## Define INSERT statement                                                                                      \n",
    "        query = \"INSERT INTO song_history (song_title, first_name, last_name, user_id)\"                                 \n",
    "        query = query + \"VALUES (%s, %s, %s, %s)\"                                                                       \n",
    "        ## Run INSERT statement                                                                                         \n",
    "        session.execute(query, (line[9], line[1], line[4], int(line[10])))                                              \n",
    "                                                                                                                        \n",
    "## Execute SELECT to validate the output                                                                                \n",
    "query = \"SELECT first_name, last_name FROM song_history WHERE song_title='All Hands Against His Own'\"                   \n",
    "rows = session.execute(query)                                                                                           \n",
    "                                                                                                                        \n",
    "for row in rows:                                                                                                        \n",
    "    print (row)                                                                                                         "
   ]
  },
  {
   "cell_type": "code",
   "execution_count": null,
   "metadata": {},
   "outputs": [],
   "source": []
  },
  {
   "cell_type": "code",
   "execution_count": null,
   "metadata": {},
   "outputs": [],
   "source": []
  },
  {
   "cell_type": "markdown",
   "metadata": {},
   "source": [
    "### Drop the tables before closing out the sessions"
   ]
  },
  {
   "cell_type": "code",
   "execution_count": null,
   "metadata": {},
   "outputs": [],
   "source": []
  },
  {
   "cell_type": "code",
   "execution_count": null,
   "metadata": {},
   "outputs": [],
   "source": [
    "## Remove tables \n",
    "\n",
    "query = \"DROP TABLE song_library\"\n",
    "session.execute(query)\n",
    "\n",
    "query = \"DROP TABLE user_play\"\n",
    "session.execute(query)\n",
    "\n",
    "query = \"DROP TABLE song_history\"\n",
    "session.execute(query)\n"
   ]
  },
  {
   "cell_type": "markdown",
   "metadata": {},
   "source": [
    "### Close the session and cluster connection¶"
   ]
  },
  {
   "cell_type": "code",
   "execution_count": null,
   "metadata": {},
   "outputs": [],
   "source": [
    "## Shutdown resources \n",
    "\n",
    "session.shutdown()\n",
    "cluster.shutdown()"
   ]
  },
  {
   "cell_type": "code",
   "execution_count": null,
   "metadata": {},
   "outputs": [],
   "source": []
  },
  {
   "cell_type": "code",
   "execution_count": null,
   "metadata": {},
   "outputs": [],
   "source": []
  }
 ],
 "metadata": {
  "kernelspec": {
   "display_name": "Python 3",
   "language": "python",
   "name": "python3"
  },
  "language_info": {
   "codemirror_mode": {
    "name": "ipython",
    "version": 3
   },
   "file_extension": ".py",
   "mimetype": "text/x-python",
   "name": "python",
   "nbconvert_exporter": "python",
   "pygments_lexer": "ipython3",
   "version": "3.6.3"
  }
 },
 "nbformat": 4,
 "nbformat_minor": 4
}
